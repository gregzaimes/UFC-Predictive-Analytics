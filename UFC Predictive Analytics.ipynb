{
 "cells": [
  {
   "cell_type": "code",
   "execution_count": 2,
   "metadata": {
    "collapsed": true
   },
   "outputs": [],
   "source": [
    "#Load python packages\n",
    "import pandas as pd\n",
    "import numpy as np\n",
    "\n",
    "#Import UFC Fight data, create new variables (columns)\n",
    "df = pd.read_csv('/Users/gregzaimes/Desktop/UFC/UFC Fight Data.csv')\n",
    "df[\"Body_Attempt\"] = df[\"B_avg_BODY_att\"]/df[\"R_avg_BODY_att\"]\n",
    "df[\"Body_Landed\"]=df[\"B_avg_BODY_landed\"]/df[\"R_avg_BODY_landed\"]\n",
    "df[\"Clinch_Attempt\"]=df[\"B_avg_CLINCH_att\"]/df[\"R_avg_CLINCH_att\"]\n",
    "df[\"Clinch_Land\"]=df[\"B_avg_CLINCH_landed\"]/df[\"R_avg_CLINCH_landed\"]\n",
    "df[\"Distance_Attempt\"]=df[\"B_avg_DISTANCE_att\"]/df[\"R_avg_DISTANCE_att\"]\n",
    "df[\"Distance_Landed\"]=df[\"B_avg_DISTANCE_landed\"]/df[\"R_avg_DISTANCE_landed\"]\n",
    "df[\"Ground_Attempt\"]=df[\"B_avg_GROUND_att\"]/df[\"R_avg_GROUND_att\"]\n",
    "df[\"Ground_Landed\"]=df[\"B_avg_GROUND_landed\"]/df[\"R_avg_GROUND_landed\"]\n",
    "df[\"Head_Attempt\"]=df[\"B_avg_HEAD_att\"]/df[\"R_avg_HEAD_att\"]\n",
    "df[\"Head_Landed\"]=df[\"B_avg_HEAD_landed\"]/df[\"R_avg_HEAD_landed\"]\n",
    "df[\"KD_avg\"]=df[\"B_avg_KD\"]/df[\"R_avg_KD\"]\n",
    "df[\"Leg_Attempt\"]=df[\"B_avg_LEG_att\"]/df[\"R_avg_LEG_att\"]\n",
    "df[\"Leg_Landed\"]=df[\"B_avg_LEG_landed\"]/df[\"R_avg_LEG_landed\"]\n",
    "df[\"Pass_Avg\"]=df[\"B_avg_PASS\"]/df[\"R_avg_PASS\"]\n",
    "df[\"Rev_Avg\"]=df[\"B_avg_REV\"]/df[\"R_avg_PASS\"]\n",
    "df[\"Sig_Str_Att\"]=df[\"B_avg_SIG_STR_att\"]/df[\"R_avg_SIG_STR_att\"]\n",
    "df[\"Sig_Str_Landed\"]=df[\"B_avg_SIG_STR_landed\"]/df[\"R_avg_SIG_STR_landed\"]\n",
    "df[\"Sig_Str_Pct\"]=df[\"B_avg_SIG_STR_pct\"]/df[\"R_avg_SIG_STR_pct\"]\n",
    "df[\"Sub_Att\"]=df[\"B_avg_SUB_ATT\"]/df[\"R_avg_SUB_ATT\"]\n",
    "df[\"TD_Att\"]=df[\"B_avg_TD_att\"]/df[\"R_avg_TD_att\"]\n",
    "df[\"TD_Landed\"]=df[\"B_avg_TD_landed\"]/df[\"R_avg_TD_landed\"]\n",
    "df[\"TD_Pct\"]=df[\"B_avg_TD_pct\"]/df[\"R_avg_TD_pct\"]\n",
    "df[\"Total_Str_Att\"]=df[\"B_avg_TOTAL_STR_att\"]/df[\"R_avg_TOTAL_STR_att\"]\n",
    "df[\"Total_Str_Landed\"]=df[\"B_avg_TOTAL_STR_landed\"]/df[\"R_avg_TOTAL_STR_landed\"]\n",
    "\n",
    "# Drop and replace any erroneous values (e.g. NaN/Infinity)\n",
    "df=df.replace([np.inf, -np.inf], np.nan)\n",
    "df=df.dropna()"
   ]
  },
  {
   "cell_type": "code",
   "execution_count": 6,
   "metadata": {},
   "outputs": [
    {
     "name": "stdout",
     "output_type": "stream",
     "text": [
      "weight_class\n",
      "Bantamweight             87\n",
      "Catch Weight              7\n",
      "Featherweight           153\n",
      "Flyweight                59\n",
      "Heavyweight             126\n",
      "Light Heavyweight       175\n",
      "Lightweight             331\n",
      "Middleweight            214\n",
      "Welterweight            336\n",
      "Women's Bantamweight     14\n",
      "Women's Flyweight         3\n",
      "Women's Strawweight      12\n",
      "Name: R_fighter, dtype: int64\n"
     ]
    }
   ],
   "source": [
    "# Examine the number of fights for each weight class\n",
    "df_agg = df.groupby([\"weight_class\"])['R_fighter'].count()\n",
    "print(df_agg)"
   ]
  },
  {
   "cell_type": "code",
   "execution_count": 22,
   "metadata": {},
   "outputs": [],
   "source": [
    "#Import python package\n",
    "from sklearn.model_selection import train_test_split\n",
    "\n",
    "# Choose one of the following weight classes to subset the UFC dataset\n",
    "# Looking at Welterweight as it has the highest volume of data out of the weight classes\n",
    "df_sub = df[(df[\"weight_class\"] == \"Lightweight\") | (df[\"weight_class\"] == \"Middleweight\") | (df[\"weight_class\"] == \"Welterweight\")]\n",
    "# df_sub = df[(df[\"weight_class\"] == \"Bantamweight\")]\n",
    "# df_sub = df[(df[\"weight_class\"] == \"Featherweight\")]\n",
    "# df_sub= df[(df[\"weight_class\"] == \"Welterweight\")]\n",
    "\n",
    "# Set the data and target variables\n",
    "data = df_sub[[\"B_current_lose_streak\",\"B_current_win_streak\",\"B_avg_BODY_att\",\"B_avg_BODY_landed\",\"B_avg_CLINCH_att\",\"B_avg_CLINCH_landed\",\"B_avg_DISTANCE_att\",\"B_avg_DISTANCE_landed\",\"B_avg_GROUND_att\",\"B_avg_GROUND_landed\",\"B_avg_HEAD_att\",\"B_avg_HEAD_landed\",\"B_avg_KD\",\"B_avg_LEG_att\",\"B_avg_LEG_landed\",\"B_avg_PASS\",\"B_avg_REV\",\"B_avg_SIG_STR_att\",\"B_avg_SIG_STR_landed\",\"B_avg_SIG_STR_pct\",\"B_avg_SUB_ATT\",\"B_avg_TD_att\",\"B_avg_TD_landed\",\"B_avg_TD_pct\",\"B_avg_TOTAL_STR_att\",\"B_avg_TOTAL_STR_landed\",\"B_longest_win_streak\",\"B_losses\",\"B_avg_opp_BODY_att\",\"B_avg_opp_BODY_landed\",\"B_avg_opp_CLINCH_att\",\"B_avg_opp_CLINCH_landed\",\"B_avg_opp_DISTANCE_att\",\"B_avg_opp_DISTANCE_landed\",\"B_avg_opp_GROUND_att\",\"B_avg_opp_GROUND_landed\",\"B_avg_opp_HEAD_att\",\"B_avg_opp_HEAD_landed\",\"B_avg_opp_KD\",\"B_avg_opp_LEG_att\",\"B_avg_opp_LEG_landed\",\"B_avg_opp_PASS\",\"B_avg_opp_REV\",\"B_avg_opp_SIG_STR_att\",\"B_avg_opp_SIG_STR_landed\",\"B_avg_opp_SIG_STR_pct\",\"B_avg_opp_SUB_ATT\",\"B_avg_opp_TD_att\",\"B_avg_opp_TD_landed\",\"B_avg_opp_TD_pct\",\"B_avg_opp_TOTAL_STR_att\",\"B_avg_opp_TOTAL_STR_landed\",\"B_total_rounds_fought\",\"B_total_time_fought(seconds)\",\"B_total_title_bouts\",\"B_win_by_Decision_Majority\",\"B_win_by_Decision_Split\",\"B_win_by_Decision_Unanimous\",\"B_win_by_KO/TKO\",\"B_win_by_Submission\",\"B_win_by_TKO_Doctor_Stoppage\",\"B_wins\",\"R_current_lose_streak\",\"R_current_win_streak\",\"R_avg_BODY_att\",\"R_avg_BODY_landed\",\"R_avg_CLINCH_att\",\"R_avg_CLINCH_landed\",\"R_avg_DISTANCE_att\",\"R_avg_DISTANCE_landed\",\"R_avg_GROUND_att\",\"R_avg_GROUND_landed\",\"R_avg_HEAD_att\",\"R_avg_HEAD_landed\",\"R_avg_KD\",\"R_avg_LEG_att\",\"R_avg_LEG_landed\",\"R_avg_PASS\",\"R_avg_REV\",\"R_avg_SIG_STR_att\",\"R_avg_SIG_STR_landed\",\"R_avg_SIG_STR_pct\",\"R_avg_SUB_ATT\",\"R_avg_TD_att\",\"R_avg_TD_landed\",\"R_avg_TD_pct\",\"R_avg_TOTAL_STR_att\",\"R_avg_TOTAL_STR_landed\",\"R_longest_win_streak\",\"R_losses\",\"R_avg_opp_BODY_att\",\"R_avg_opp_BODY_landed\",\"R_avg_opp_CLINCH_att\",\"R_avg_opp_CLINCH_landed\",\"R_avg_opp_DISTANCE_att\",\"R_avg_opp_DISTANCE_landed\",\"R_avg_opp_GROUND_att\",\"R_avg_opp_GROUND_landed\",\"R_avg_opp_HEAD_att\",\"R_avg_opp_HEAD_landed\",\"R_avg_opp_KD\",\"R_avg_opp_LEG_att\",\"R_avg_opp_LEG_landed\",\"R_avg_opp_PASS\",\"R_avg_opp_REV\",\"R_avg_opp_SIG_STR_att\",\"R_avg_opp_SIG_STR_landed\",\"R_avg_opp_SIG_STR_pct\",\"R_avg_opp_SUB_ATT\",\"R_avg_opp_TD_att\",\"R_avg_opp_TD_landed\",\"R_avg_opp_TD_pct\",\"R_avg_opp_TOTAL_STR_att\",\"R_avg_opp_TOTAL_STR_landed\",\"R_total_rounds_fought\",\"R_total_time_fought(seconds)\",\"R_total_title_bouts\",\"R_win_by_Decision_Majority\",\"R_win_by_Decision_Split\",\"R_win_by_Decision_Unanimous\",\"R_win_by_KO/TKO\",\"R_win_by_Submission\",\"R_win_by_TKO_Doctor_Stoppage\",\"R_wins\"]]\n",
    "target = df_sub[\"WinnerNum\"]\n",
    "\n",
    "# Convert the 'data' and target dataframes into numpy arrays. \n",
    "# This is the required format for KFold cross validation\n",
    "data_numpy = data.to_numpy()\n",
    "target_numpy = target.to_numpy()"
   ]
  },
  {
   "cell_type": "code",
   "execution_count": 12,
   "metadata": {},
   "outputs": [],
   "source": [
    "# Import python package\n",
    "from sklearn.preprocessing import RobustScaler\n",
    "\n",
    "# Scale UFC fight data using 'robust' scaler\n",
    "# Currently, the robust scaler is scaling the ENTIRE dataset.\n",
    "# Additional work is needed to apply the robust scaler to individual columns of the dataset\n",
    "robust = RobustScaler(quantile_range = (0.1,0.9))\n",
    "data_numpy_transformed = robust.fit_transform(data_numpy)\n",
    "\n",
    "# Import python package\n",
    "from sklearn.preprocessing import StandardScaler\n",
    "\n",
    "# Unfinished - This needs more work\n",
    "scaler = StandardScaler()\n",
    "scaled_data = scaler.fit_transform(data_numpy)\n",
    "#df_scaled = pd.DataFrame(scaled_data, columns = )"
   ]
  },
  {
   "cell_type": "code",
   "execution_count": 42,
   "metadata": {},
   "outputs": [],
   "source": [
    "# Import python packages\n",
    "from sklearn.model_selection import KFold\n",
    "from sklearn.svm import LinearSVC\n",
    "from sklearn.linear_model import LogisticRegression\n",
    "from sklearn.linear_model import RidgeClassifier\n",
    "from sklearn import metrics\n",
    "\n",
    "# Parameterize the number of KFolds. For now, set the number of folds equal to 10\n",
    "kf = KFold(n_splits = 10)\n",
    "\n",
    "# This splits the data into the number of specified folds\n",
    "kf.get_n_splits(data_numpy)\n",
    "\n",
    "# Set up a blank list and DataFrame, for which we will append accuracy scores \n",
    "# in the subsequent For-Loop\n",
    "accuracy = []\n",
    "all_scores = pd.DataFrame()\n",
    "\n",
    "# Create For-Loop to loop through the cross folds of the data-set\n",
    "for train_index, test_index in kf.split(data_numpy):\n",
    "    X_train, X_test = data_numpy[train_index], data_numpy[test_index]\n",
    "    y_train, y_test = target_numpy[train_index], target_numpy[test_index]\n",
    "    \n",
    "    # Choose the preferred classifier and associated parameters (e.g. max_iter, C, etc.)\n",
    "    # Currently only 3 are loaded, LinearSVC, LogReg, and Ridge--we can add others\n",
    "    # ...Ridge Seems to do the best so far...\n",
    "    #clf = LinearSVC(max_iter=100000, C = 10)\n",
    "    #clf = LogisticRegression(solver = \"lbfgs\", C = 10, max_iter = 1000)\n",
    "    clf = RidgeClassifier()\n",
    "    clf.fit(X_train,y_train) # Fit the classifer based on X_train, and y_train \n",
    "    y_pred=clf.predict(X_test) # Make predictions based on X_test set\n",
    "    score = metrics.accuracy_score(y_test, y_pred) # Determine the Model accuracy \n",
    "    accuracy.append(score) # Append the accuracy scores to the 'accuracy' list\n",
    "all_scores[\"Folds\"] = accuracy # Port the accuracy scores into the all_scores DataFrame"
   ]
  },
  {
   "cell_type": "code",
   "execution_count": 51,
   "metadata": {},
   "outputs": [
    {
     "name": "stdout",
     "output_type": "stream",
     "text": [
      "      Folds\n",
      "0  0.573034\n",
      "1  0.636364\n",
      "2  0.625000\n",
      "3  0.556818\n",
      "4  0.602273\n",
      "5  0.659091\n",
      "6  0.602273\n",
      "7  0.556818\n",
      "8  0.715909\n",
      "9  0.863636\n",
      "Average Accuracy: 0.6391215526046986\n"
     ]
    }
   ],
   "source": [
    "# Print the Classifier Accuracies across the KFolds\n",
    "print(all_scores)\n",
    "print(\"Average Accuracy: \" + str(all_scores[\"Folds\"].mean()))"
   ]
  },
  {
   "cell_type": "code",
   "execution_count": 44,
   "metadata": {},
   "outputs": [
    {
     "name": "stderr",
     "output_type": "stream",
     "text": [
      "/Users/gregzaimes/anaconda3/lib/python3.6/site-packages/matplotlib/axes/_axes.py:6462: UserWarning: The 'normed' kwarg is deprecated, and has been replaced by the 'density' kwarg.\n",
      "  warnings.warn(\"The 'normed' kwarg is deprecated, and has been \"\n"
     ]
    },
    {
     "data": {
      "text/plain": [
       "<matplotlib.axes._subplots.AxesSubplot at 0x1a1c640908>"
      ]
     },
     "execution_count": 44,
     "metadata": {},
     "output_type": "execute_result"
    },
    {
     "data": {
      "image/png": "[encoded data removed]",
      "text/plain": [
       "<Figure size 432x288 with 1 Axes>"
      ]
     },
     "metadata": {},
     "output_type": "display_data"
    }
   ],
   "source": [
    "# Import Python Modules\n",
    "import seaborn as sns\n",
    "import matplotlib.pyplot as plt\n",
    "\n",
    "# Use Seaborn to Create a histogram of the Accuracies between the KFolds\n",
    "%matplotlib inline \n",
    "sns.distplot(accuracy)"
   ]
  },
  {
   "cell_type": "code",
   "execution_count": null,
   "metadata": {},
   "outputs": [],
   "source": [
    "# Pull out and sort the Feature Weights of the Classifier\n",
    "# This need more work and is not properly working at the moment\n",
    "coef = clf.coef_[0]\n",
    "coef_abs =abs(coef)\n",
    "coef_sort = coef_abs.sort\n",
    "print (coef_sort)"
   ]
  }
 ],
 "metadata": {
  "kernelspec": {
   "display_name": "Python 3",
   "language": "python",
   "name": "python3"
  },
  "language_info": {
   "codemirror_mode": {
    "name": "ipython",
    "version": 3
   },
   "file_extension": ".py",
   "mimetype": "text/x-python",
   "name": "python",
   "nbconvert_exporter": "python",
   "pygments_lexer": "ipython3",
   "version": "3.6.10"
  }
 },
 "nbformat": 4,
 "nbformat_minor": 2
}
